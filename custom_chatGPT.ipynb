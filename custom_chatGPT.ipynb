{
 "cells": [
  {
   "cell_type": "markdown",
   "id": "15dd15f7-86b3-4eac-96dc-aac162560455",
   "metadata": {},
   "source": [
    "# Custom ChatGPT with LangChain"
   ]
  },
  {
   "cell_type": "code",
   "execution_count": 2,
   "id": "7b37f8f7-a8e7-41d7-8aae-7ae21be4f652",
   "metadata": {},
   "outputs": [
    {
     "data": {
      "text/plain": [
       "True"
      ]
     },
     "execution_count": 2,
     "metadata": {},
     "output_type": "execute_result"
    }
   ],
   "source": [
    "from dotenv import load_dotenv, find_dotenv\n",
    "load_dotenv(find_dotenv(), override = True)"
   ]
  },
  {
   "cell_type": "code",
   "execution_count": null,
   "id": "544e00e5-973a-4ac5-bfc5-f84147e07c36",
   "metadata": {},
   "outputs": [],
   "source": [
    "#1. imports\n",
    "from langchain_openai import ChatOpenAI\n",
    "from langchain.schema import SystemMessage\n",
    "from langchain.chains import LLMChain\n",
    "from langchain.prompts import ChatPromptTemplate, HumanMessagePromptTemplate, MessagesPlaceholder\n",
    "from langchain.memory import ConversationBufferMemory, FileChatMessageHistory\n",
    "\n",
    "llm = ChatOpenAI(model_name = 'gpt-3.5-turbo', temperature = 1)\n",
    "\n",
    "history=FileChatMessageHistory('chat_history.json')\n",
    "\n",
    "#2 memory object\n",
    "memory = ConversationBufferMemory(\n",
    "    memory_key = 'chat_history',\n",
    "    chat_memory=history,\n",
    "    return_messages = True\n",
    ")\n",
    "\n",
    "prompt = ChatPromptTemplate(\n",
    "    input_variable = ['content'],\n",
    "    messages=[\n",
    "    SystemMessage(content='You are a chatbot having a conversation with a human.'), \n",
    "    MessagesPlaceholder(variable_name='chat_history'), #where the memory will be stored\n",
    "    HumanMessagePromptTemplate.from_template('{content}')\n",
    "    ]\n",
    ")\n",
    "\n",
    "chain = LLMChain(\n",
    "    llm=llm,\n",
    "    prompt=prompt,\n",
    "    memory=memory,\n",
    "    verbose =True\n",
    ")\n",
    "\n",
    "while True:\n",
    "    content = input('Your prompt: ')\n",
    "    if content in ['quit', 'exit', 'bye']:\n",
    "        print('Goodbye!')\n",
    "        break\n",
    "\n",
    "    response = chain.invoke({'content': content})\n",
    "    print(response['text'])\n",
    "    print('-'*50)"
   ]
  },
  {
   "cell_type": "code",
   "execution_count": null,
   "id": "e1ffbf4f-11f3-45aa-9cfb-ff59096d788c",
   "metadata": {},
   "outputs": [],
   "source": []
  }
 ],
 "metadata": {
  "kernelspec": {
   "display_name": "Python 3 (ipykernel)",
   "language": "python",
   "name": "python3"
  },
  "language_info": {
   "codemirror_mode": {
    "name": "ipython",
    "version": 3
   },
   "file_extension": ".py",
   "mimetype": "text/x-python",
   "name": "python",
   "nbconvert_exporter": "python",
   "pygments_lexer": "ipython3",
   "version": "3.11.8"
  }
 },
 "nbformat": 4,
 "nbformat_minor": 5
}
